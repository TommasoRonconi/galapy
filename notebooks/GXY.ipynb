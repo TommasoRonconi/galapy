{
 "cells": [
  {
   "cell_type": "code",
   "execution_count": 1,
   "id": "2b5fe166",
   "metadata": {},
   "outputs": [],
   "source": [
    "import numpy as np\n",
    "import galapy as gp"
   ]
  },
  {
   "cell_type": "code",
   "execution_count": 2,
   "id": "71c9cbb8",
   "metadata": {},
   "outputs": [],
   "source": [
    "class GXY () :\n",
    "    \n",
    "    def __init__ ( self ) :\n",
    "        \n",
    "        self.sfh = gp.StarFormationHistory.SFH()\n",
    "        self.csp = gp.CompositeStellarPopulation.CSP()\n",
    "        self.ism = gp.InterStellarMedium.ISM()\n",
    "        "
   ]
  },
  {
   "cell_type": "code",
   "execution_count": 3,
   "id": "b2a93865",
   "metadata": {},
   "outputs": [],
   "source": [
    "gxy = GXY()"
   ]
  },
  {
   "cell_type": "code",
   "execution_count": 1,
   "id": "e7dfabbc",
   "metadata": {},
   "outputs": [],
   "source": [
    "import numpy as np\n",
    "import galapy as gp"
   ]
  },
  {
   "cell_type": "code",
   "execution_count": 4,
   "id": "0e445cff",
   "metadata": {},
   "outputs": [],
   "source": [
    "\n",
    "def gen_params_dict ( tau_quench = 2.e+10, model = 'insitu' ) :\n",
    "\n",
    "    _models = {\n",
    "        # In-Situ SF model\n",
    "        'insitu' : {\n",
    "            'psi_max' :  100.,\n",
    "            'tau_star' : 3.e+8,\n",
    "        },\n",
    "        # Constant SF model\n",
    "        'constant' : {\n",
    "            'psi' : 1.,\n",
    "        },\n",
    "        # Delayed-Exponential model\n",
    "        'delayedexp' : {\n",
    "            'psi_norm' : 1.,\n",
    "            'k_shape' :  0.2,\n",
    "            'tau_star' : 1.e+8,\n",
    "        },\n",
    "        # Log-Normal model\n",
    "        'lognormal' : {\n",
    "            'psi_norm' :   100.,\n",
    "            'sigma_star' : 2.,\n",
    "            'tau_star' :   3.e+8,\n",
    "        }\n",
    "    }\n",
    "\n",
    "    return { 'tau_quench' : tau_quench, 'model' : model }.update( **_models[ model ] )"
   ]
  },
  {
   "cell_type": "code",
   "execution_count": 8,
   "id": "ab2670fc",
   "metadata": {},
   "outputs": [],
   "source": [
    "tau_quench = 2.e+10\n",
    "model = 'insitu'\n",
    "_models = {\n",
    "    # In-Situ SF model\n",
    "    'insitu' : {\n",
    "        'psi_max' :  100.,\n",
    "        'tau_star' : 3.e+8,\n",
    "    },\n",
    "    # Constant SF model\n",
    "    'constant' : {\n",
    "        'psi' : 1.,\n",
    "    },\n",
    "    # Delayed-Exponential model\n",
    "    'delayedexp' : {\n",
    "        'psi_norm' : 1.,\n",
    "        'k_shape' :  0.2,\n",
    "        'tau_star' : 1.e+8,\n",
    "    },\n",
    "    # Log-Normal model\n",
    "    'lognormal' : {\n",
    "        'psi_norm' :   100.,\n",
    "        'sigma_star' : 2.,\n",
    "        'tau_star' :   3.e+8,\n",
    "    }\n",
    "}\n",
    "out = { 'tau_quench' : tau_quench, 'model' : model }"
   ]
  },
  {
   "cell_type": "code",
   "execution_count": 10,
   "id": "2048727c",
   "metadata": {},
   "outputs": [],
   "source": [
    "out.update( _models[model] )"
   ]
  },
  {
   "cell_type": "code",
   "execution_count": 11,
   "id": "0a387fbe",
   "metadata": {},
   "outputs": [
    {
     "data": {
      "text/plain": [
       "{'tau_quench': 20000000000.0,\n",
       " 'model': 'insitu',\n",
       " 'psi_max': 100.0,\n",
       " 'tau_star': 300000000.0}"
      ]
     },
     "execution_count": 11,
     "metadata": {},
     "output_type": "execute_result"
    }
   ],
   "source": [
    "out"
   ]
  },
  {
   "cell_type": "code",
   "execution_count": 5,
   "id": "3ee1235d",
   "metadata": {},
   "outputs": [],
   "source": [
    "gen_params_dict()"
   ]
  },
  {
   "cell_type": "code",
   "execution_count": 2,
   "id": "4391f92a",
   "metadata": {},
   "outputs": [],
   "source": [
    "sfh_model_choice = {\n",
    "    # In-Situ SF model\n",
    "    'insitu' : {\n",
    "        'psi_max' :  100.,\n",
    "        'tau_star' : 3.e+8,\n",
    "    },\n",
    "    # Constant SF model\n",
    "    'constant' : {\n",
    "        'psi' : 1.,\n",
    "    },\n",
    "    # Delayed-Exponential model\n",
    "    'delayedexp' : {\n",
    "        'psi_norm' : 1.,\n",
    "        'k_shape' :  0.2,\n",
    "        'tau_star' : 1.e+8,\n",
    "    },\n",
    "    # Log-Normal model\n",
    "    'lognormal' : {\n",
    "        'psi_norm' :   100.,\n",
    "        'sigma_star' : 2.,\n",
    "        'tau_star' :   3.e+8,\n",
    "    }\n",
    "}"
   ]
  },
  {
   "cell_type": "code",
   "execution_count": 3,
   "id": "f62d8410",
   "metadata": {},
   "outputs": [],
   "source": [
    "from collections.abc import MutableMapping as MM\n",
    "\n",
    "def rec_update (dd, **kwargs) :\n",
    "    for k, v in kwargs.items() :\n",
    "        if isinstance(v,MM) :\n",
    "            rec_update( dd[k], **v )\n",
    "        elif k in dd.keys() :\n",
    "            dd[k] = v\n",
    "        else :\n",
    "            print( f'Key {k} not valid' )\n",
    "            continue\n",
    "    return;\n",
    "\n",
    "def build_param_dict ( **kwargs ) :\n",
    "    out = {\n",
    "        'age' : 1.e+9,\n",
    "        'sfh' : { \n",
    "            'tau_quench' : 1.e+8,\n",
    "            'model' : 'insitu',\n",
    "        },\n",
    "        'csp' : {\n",
    "            'ssp_library' : gp.SSP_LIB['bc03.basel.chab.extend']            \n",
    "        },\n",
    "        'ism' : {\n",
    "            'dd' : {\n",
    "                'f_MC'  : 0.5,\n",
    "                'norm'  : 1.,\n",
    "                'Mdust' : 3.55988e+07,\n",
    "                'Rdust' : 1000.,\n",
    "                'f_PAH' : 0.2\n",
    "            },\n",
    "            'mc' : {\n",
    "                'f_MC'    : 0.5,\n",
    "                'norm'    : 100.,\n",
    "                'N_MC'    : 8.5e+03,\n",
    "                'R_MC'    : 16,\n",
    "                'Zgas'    : 0.466,\n",
    "                'tau_esc' : 1.e+7,\n",
    "                'Mgas'    : 8.51101e+09,\n",
    "            },\n",
    "        },\n",
    "    }\n",
    "         \n",
    "    rec_update( out, **kwargs )\n",
    "    out['sfh']['params'] = sfh_model_choice[ out['sfh']['model'] ]\n",
    "    \n",
    "    return out"
   ]
  },
  {
   "cell_type": "code",
   "execution_count": 4,
   "id": "45576635",
   "metadata": {},
   "outputs": [],
   "source": [
    "def rec_return ( dd, keylist ) :\n",
    "    if len(keylist) > 1 and isinstance( dd, MM ) :\n",
    "        return rec_return( dd[keylist.pop(0)], keylist )\n",
    "    return dd[keylist.pop(0)]"
   ]
  },
  {
   "cell_type": "code",
   "execution_count": 5,
   "id": "4d25a69b",
   "metadata": {},
   "outputs": [],
   "source": [
    "def trap_int ( xx, yy ) :\n",
    "    xx = np.asarray(xx)\n",
    "    yy = np.asarray(yy)\n",
    "    b1b2 = yy[:-1] + yy[1:]\n",
    "    hh = xx[1:] - xx[:-1]\n",
    "    return np.sum( 0.5 * b1b2 * hh )"
   ]
  },
  {
   "cell_type": "code",
   "execution_count": 6,
   "id": "89e0c802",
   "metadata": {},
   "outputs": [],
   "source": [
    "Lsun = 3.828e+33"
   ]
  },
  {
   "cell_type": "code",
   "execution_count": 7,
   "id": "49e39488",
   "metadata": {},
   "outputs": [],
   "source": [
    "class Galaxy () :\n",
    "    import galapy.SFH_core as csfh\n",
    "    import galapy.CSP_core as ccsp\n",
    "    import galapy.ISM_core as cism\n",
    "    \n",
    "    def __init__ ( self, **kwargs ) :\n",
    "        import galapy.internal.CPySFH as csfh\n",
    "        import galapy.internal.CPyCSP as ccsp\n",
    "        import galapy.internal.CPyISM as cism\n",
    "        self.rcparams = ( build_param_dict( **kwargs ) )\n",
    "        self.sfh = csfh.CSFH( self['sfh.tau_quench'], self['sfh.model'] )\n",
    "        self.wavel, self.times, self.metals, Lgrid = ccsp.loadSSP(self['csp.ssp_library']) \n",
    "        self.csp = ccsp.CCSP( self.wavel, self.times, \n",
    "                              self.metals, Lgrid )\n",
    "        class ISM () :\n",
    "            def __init__ (self) :\n",
    "                self.dd = cism.CDD()\n",
    "                self.mc = cism.CMC()\n",
    "        self.ism = ISM()\n",
    "        \n",
    "        self.set_params()\n",
    "        \n",
    "    def __setitem__ ( self, key, value ) :\n",
    "        rec_update( self.rcparams, **{ key : value } )\n",
    "        return;\n",
    "    def __getitem__ ( self, key ) :\n",
    "        return rec_return( self.rcparams, key.split('.') )\n",
    "    \n",
    "    def set_params ( self, **kwargs ) :\n",
    "        self.rcparams.update( kwargs )\n",
    "        self.sfh.set_params( np.asarray(list(self['sfh.params'].values())) )\n",
    "        self.csp.set_params( *self.sfh.time_grid( self['age'], self.times, self.metals ) )\n",
    "        self.ism.dd.set_params(np.asarray(list(self['ism.dd'].values())))\n",
    "        self.ism.mc.set_params(np.asarray(list(self['ism.mc'].values())))\n",
    "        return;\n",
    "    \n",
    "    def SED ( self, lidx, **kwargs ) :\n",
    "        self.set_params( **kwargs )\n",
    "        lsub = self.wavel[lidx]\n",
    "        attDD = self.ism.dd.attenuation(lsub)\n",
    "        attMC = self.ism.mc.attenuation(lsub)\n",
    "        etaMC = self.ism.mc.eta(self.times)\n",
    "        attTotMC = 1 - ( 1 - attMC )[:,np.newaxis] * etaMC[np.newaxis,:]\n",
    "        attTot = attTotMC * attDD[:,np.newaxis]\n",
    "        Lunatt = self.csp.emission( lidx )\n",
    "        LattMC = self.csp.emission( lidx, attTotMC )\n",
    "        Latt = self.csp.emission( lidx, attTot )\n",
    "        Tdd = self.ism.dd.temperature( 0.5 * Lsun * trap_int( lsub, ( LattMC - Latt ) ) )\n",
    "        Tmc = self.ism.mc.temperature( 0.5 * Lsun * trap_int( lsub, ( Lunatt - LattMC ) ) )\n",
    "        Ldd = self.ism.dd.emission(lsub)\n",
    "        Lmc = self.ism.mc.emission(lsub)\n",
    "        return Latt + Ldd + Lmc"
   ]
  },
  {
   "cell_type": "code",
   "execution_count": 8,
   "id": "5897d7fd",
   "metadata": {},
   "outputs": [
    {
     "name": "stdout",
     "output_type": "stream",
     "text": [
      "CPU times: user 10.5 ms, sys: 58 ms, total: 68.6 ms\n",
      "Wall time: 67.9 ms\n"
     ]
    }
   ],
   "source": [
    "%time gxy = Galaxy()"
   ]
  },
  {
   "cell_type": "code",
   "execution_count": 71,
   "id": "727a4d2d",
   "metadata": {},
   "outputs": [
    {
     "name": "stdout",
     "output_type": "stream",
     "text": [
      "CPU times: user 46 µs, sys: 31 µs, total: 77 µs\n",
      "Wall time: 80.6 µs\n"
     ]
    }
   ],
   "source": [
    "%time gxy.set_params(**build_param_dict())"
   ]
  },
  {
   "cell_type": "code",
   "execution_count": 9,
   "id": "c9ec5370",
   "metadata": {},
   "outputs": [],
   "source": [
    "subidx = np.arange(91,len(gxy.wavel),100,dtype=np.uint64)"
   ]
  },
  {
   "cell_type": "code",
   "execution_count": 15,
   "id": "8b892e61",
   "metadata": {},
   "outputs": [
    {
     "name": "stdout",
     "output_type": "stream",
     "text": [
      "CPU times: user 713 µs, sys: 710 µs, total: 1.42 ms\n",
      "Wall time: 1.24 ms\n"
     ]
    }
   ],
   "source": [
    "%time Lum = gxy.SED( subidx )"
   ]
  },
  {
   "cell_type": "code",
   "execution_count": null,
   "id": "94c1b547",
   "metadata": {},
   "outputs": [],
   "source": []
  }
 ],
 "metadata": {
  "kernelspec": {
   "display_name": "Python 3 (ipykernel)",
   "language": "python",
   "name": "python3"
  },
  "language_info": {
   "codemirror_mode": {
    "name": "ipython",
    "version": 3
   },
   "file_extension": ".py",
   "mimetype": "text/x-python",
   "name": "python",
   "nbconvert_exporter": "python",
   "pygments_lexer": "ipython3",
   "version": "3.8.12"
  }
 },
 "nbformat": 4,
 "nbformat_minor": 5
}
