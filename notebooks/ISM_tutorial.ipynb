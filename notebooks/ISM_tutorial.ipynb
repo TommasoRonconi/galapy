{
 "cells": [
  {
   "cell_type": "code",
   "execution_count": 1,
   "id": "16f80465",
   "metadata": {},
   "outputs": [],
   "source": [
    "import galapy.internal.CPyISM as cism"
   ]
  },
  {
   "cell_type": "code",
   "execution_count": 2,
   "id": "4cb3a7c1",
   "metadata": {},
   "outputs": [],
   "source": [
    "import numpy as np"
   ]
  },
  {
   "cell_type": "code",
   "execution_count": 3,
   "id": "8810d827",
   "metadata": {},
   "outputs": [],
   "source": [
    "import matplotlib.pyplot as plt"
   ]
  },
  {
   "cell_type": "markdown",
   "id": "df91b7c2",
   "metadata": {},
   "source": [
    "Wavelenght grid:"
   ]
  },
  {
   "cell_type": "code",
   "execution_count": 4,
   "id": "28d4809b",
   "metadata": {},
   "outputs": [],
   "source": [
    "ll = np.logspace( 0, 10, 300 )"
   ]
  },
  {
   "cell_type": "markdown",
   "id": "be7906c5",
   "metadata": {},
   "source": [
    "Constants"
   ]
  },
  {
   "cell_type": "code",
   "execution_count": 5,
   "id": "89e0c802",
   "metadata": {},
   "outputs": [],
   "source": [
    "Lsun = 3.828e+33"
   ]
  },
  {
   "cell_type": "markdown",
   "id": "afd3bbee",
   "metadata": {},
   "source": [
    "## Diffuse-Dust"
   ]
  },
  {
   "cell_type": "code",
   "execution_count": 6,
   "id": "3a8c60fa",
   "metadata": {},
   "outputs": [],
   "source": [
    "dd = cism.CDD()"
   ]
  },
  {
   "cell_type": "code",
   "execution_count": 7,
   "id": "49432e5c",
   "metadata": {},
   "outputs": [],
   "source": [
    "dd_dict = {\n",
    "    'f_MC'  : 0.5,\n",
    "    'norm'  : 1.,\n",
    "    'Mdust' : 3.55988e+07,\n",
    "    'Rdust' : 1000.,\n",
    "    'f_PAH' : 0.2\n",
    "}"
   ]
  },
  {
   "cell_type": "code",
   "execution_count": 8,
   "id": "535fc63b",
   "metadata": {},
   "outputs": [
    {
     "data": {
      "text/plain": [
       "array(dict_values([0.5, 1.0, 35598800.0, 1000.0, 0.2]), dtype=object)"
      ]
     },
     "execution_count": 8,
     "metadata": {},
     "output_type": "execute_result"
    }
   ],
   "source": [
    "np.asarray(dd_dict.values())"
   ]
  },
  {
   "cell_type": "code",
   "execution_count": 9,
   "id": "db36c1fe",
   "metadata": {},
   "outputs": [],
   "source": [
    "dd.set_params(np.asarray(list(dd_dict.values())))"
   ]
  },
  {
   "cell_type": "code",
   "execution_count": 10,
   "id": "2e79bb78",
   "metadata": {},
   "outputs": [],
   "source": [
    "dd.set_temperature( 37.53 )"
   ]
  },
  {
   "cell_type": "code",
   "execution_count": 11,
   "id": "fa01c3bb",
   "metadata": {},
   "outputs": [
    {
     "data": {
      "text/plain": [
       "29481.75845724038"
      ]
     },
     "execution_count": 11,
     "metadata": {},
     "output_type": "execute_result"
    }
   ],
   "source": [
    "dd.emission(1.e+6)"
   ]
  },
  {
   "cell_type": "code",
   "execution_count": 12,
   "id": "0b666d9e",
   "metadata": {},
   "outputs": [],
   "source": [
    "Ldd = dd.emission(ll)"
   ]
  },
  {
   "cell_type": "code",
   "execution_count": 13,
   "id": "5ffa1d45",
   "metadata": {},
   "outputs": [],
   "source": [
    "Add   = dd.attenuation(ll)\n",
    "Extdd = dd.extinction(ll) / dd.A_V()"
   ]
  },
  {
   "cell_type": "markdown",
   "id": "fb96d49f",
   "metadata": {},
   "source": [
    "## Molecular-Clouds"
   ]
  },
  {
   "cell_type": "code",
   "execution_count": 14,
   "id": "6f97d593",
   "metadata": {},
   "outputs": [],
   "source": [
    "mc = cism.CMC()"
   ]
  },
  {
   "cell_type": "code",
   "execution_count": 15,
   "id": "353fdc49",
   "metadata": {},
   "outputs": [],
   "source": [
    "mc_dict = {\n",
    "    'f_MC'    : 0.5,\n",
    "    'norm'    : 100.,\n",
    "    'N_MC'    : 8.5e+03,\n",
    "    'R_MC'    : 16,\n",
    "    'Zgas'    : 0.466,\n",
    "    'tau_esc' : 1.e+7,\n",
    "    'Mgas'    : 8.51101e+09,\n",
    "}"
   ]
  },
  {
   "cell_type": "code",
   "execution_count": 16,
   "id": "734db0d5",
   "metadata": {},
   "outputs": [],
   "source": [
    "mc.set_params(np.asarray(list(mc_dict.values())))"
   ]
  },
  {
   "cell_type": "code",
   "execution_count": 17,
   "id": "50729da0",
   "metadata": {},
   "outputs": [],
   "source": [
    "mc.set_temperature( 30.74 )"
   ]
  },
  {
   "cell_type": "code",
   "execution_count": 18,
   "id": "ea61f124",
   "metadata": {},
   "outputs": [
    {
     "data": {
      "text/plain": [
       "77835.11874051443"
      ]
     },
     "execution_count": 18,
     "metadata": {},
     "output_type": "execute_result"
    }
   ],
   "source": [
    "mc.emission(1.e+6)"
   ]
  },
  {
   "cell_type": "code",
   "execution_count": 19,
   "id": "aa1fc5d3",
   "metadata": {},
   "outputs": [],
   "source": [
    "Lmc = mc.emission(ll)"
   ]
  },
  {
   "cell_type": "code",
   "execution_count": 20,
   "id": "e0900670",
   "metadata": {},
   "outputs": [],
   "source": [
    "Amc   = mc.attenuation(ll)\n",
    "Extmc = mc.extinction(ll) / mc.A_V()"
   ]
  },
  {
   "cell_type": "markdown",
   "id": "4e4de4ca",
   "metadata": {},
   "source": [
    "## Plots"
   ]
  },
  {
   "cell_type": "code",
   "execution_count": 21,
   "id": "755ad275",
   "metadata": {},
   "outputs": [
    {
     "data": {
      "image/png": "[encoded data removed]",
      "text/plain": [
       "<Figure size 432x288 with 1 Axes>"
      ]
     },
     "metadata": {
      "needs_background": "light"
     },
     "output_type": "display_data"
    }
   ],
   "source": [
    "plt.ylim(35,50)\n",
    "plt.xlabel( '$\\\\log\\\\ \\\\lambda\\\\ [\\\\AA]$' )\n",
    "plt.ylabel( '$\\\\log\\\\ \\\\lambda\\\\; L_\\\\lambda\\\\ [$erg$\\\\; s^{-1}]$' )\n",
    "plt.plot( np.ma.log10( ll ), np.ma.log10( ll * Lsun * Ldd ), label='Diffuse Dust' )\n",
    "plt.plot( np.ma.log10( ll ), np.ma.log10( ll * Lsun * Lmc ), label='Molecular Cloud' )\n",
    "_ = plt.legend()"
   ]
  },
  {
   "cell_type": "code",
   "execution_count": 22,
   "id": "496e6518",
   "metadata": {},
   "outputs": [
    {
     "data": {
      "image/png": "[encoded data removed]",
      "text/plain": [
       "<Figure size 432x288 with 1 Axes>"
      ]
     },
     "metadata": {
      "needs_background": "light"
     },
     "output_type": "display_data"
    }
   ],
   "source": [
    "plt.xlabel( '$\\\\log\\\\ \\\\lambda\\\\ [\\\\AA]$' )\n",
    "plt.plot( np.ma.log10( ll ), Add, label='Diffuse Dust' )\n",
    "plt.plot( np.ma.log10( ll ), Amc, label='Molecular Cloud' )\n",
    "_ = plt.legend()"
   ]
  },
  {
   "cell_type": "code",
   "execution_count": 23,
   "id": "94719dbf",
   "metadata": {},
   "outputs": [
    {
     "data": {
      "image/png": "[encoded data removed]",
      "text/plain": [
       "<Figure size 432x288 with 1 Axes>"
      ]
     },
     "metadata": {
      "needs_background": "light"
     },
     "output_type": "display_data"
    }
   ],
   "source": [
    "plt.xlim(3,7)\n",
    "plt.ylim(-5,1)\n",
    "plt.xlabel( '$\\\\log\\\\ \\\\lambda\\\\ [\\\\AA]$' )\n",
    "plt.ylabel( '$\\\\log\\\\ A_\\\\lambda/A_V$' )\n",
    "plt.plot( np.ma.log10( ll ), np.ma.log10( Extdd ), label='Diffuse Dust' )\n",
    "plt.plot( np.ma.log10( ll ), np.ma.log10( Extmc ), label='Molecular Cloud' )\n",
    "plt.axvline( np.log10(5500), c='k', ls='--', label='$5500\\\\ \\\\AA$' )\n",
    "plt.axvline( 6, c='k', ls=':', label = '$10^6\\\\ \\\\AA$')\n",
    "_ = plt.legend()"
   ]
  },
  {
   "cell_type": "markdown",
   "id": "58b377ae",
   "metadata": {},
   "source": [
    "## Wrap-Up ISM"
   ]
  },
  {
   "cell_type": "code",
   "execution_count": 24,
   "id": "97a2cf99",
   "metadata": {},
   "outputs": [],
   "source": [
    "import galapy as gp\n",
    "import galapy.internal.CPySFH as csfh\n",
    "import galapy.internal.CPyCSP as ccsp"
   ]
  },
  {
   "cell_type": "code",
   "execution_count": 25,
   "id": "85495dc9",
   "metadata": {},
   "outputs": [],
   "source": [
    "sfh = csfh.CSFH( 1.e+10 )"
   ]
  },
  {
   "cell_type": "code",
   "execution_count": 26,
   "id": "4d54a8d2",
   "metadata": {},
   "outputs": [],
   "source": [
    "ll, tt, zz, LL = ccsp.loadSSP( gp.SSP_LIB['bc03.basel.chab.extend'] )"
   ]
  },
  {
   "cell_type": "code",
   "execution_count": 27,
   "id": "d0848db3",
   "metadata": {},
   "outputs": [],
   "source": [
    "csp = ccsp.CCSP( ll, tt, zz, LL )\n",
    "csp.set_params( *sfh.time_grid( 1.e+7, tt, zz ) )\n",
    "#csp.emission( np.arange( len(ll), dtype = np.uint64 ) )"
   ]
  },
  {
   "cell_type": "code",
   "execution_count": 28,
   "id": "ec561e41",
   "metadata": {},
   "outputs": [
    {
     "name": "stdout",
     "output_type": "stream",
     "text": [
      "CPU times: user 506 µs, sys: 4.55 ms, total: 5.06 ms\n",
      "Wall time: 4.03 ms\n"
     ]
    }
   ],
   "source": [
    "%%time\n",
    "attDD = dd.attenuation(ll)\n",
    "attMC = mc.attenuation(ll)\n",
    "etaMC = mc.eta(tt)\n",
    "attTot = np.ascontiguousarray( ( 1 - ( 1 - attMC )[:,np.newaxis] * etaMC[np.newaxis,:] ) * attDD[:,np.newaxis] )"
   ]
  },
  {
   "cell_type": "code",
   "execution_count": 29,
   "id": "655b0cb0",
   "metadata": {},
   "outputs": [
    {
     "name": "stdout",
     "output_type": "stream",
     "text": [
      "CPU times: user 2.62 ms, sys: 0 ns, total: 2.62 ms\n",
      "Wall time: 1.93 ms\n"
     ]
    }
   ],
   "source": [
    "%time attTotMC = ( 1 - ( 1 - attMC )[:,np.newaxis] * etaMC[np.newaxis,:] )"
   ]
  },
  {
   "cell_type": "code",
   "execution_count": 30,
   "id": "13ecd670",
   "metadata": {},
   "outputs": [
    {
     "name": "stdout",
     "output_type": "stream",
     "text": [
      "CPU times: user 3.36 ms, sys: 0 ns, total: 3.36 ms\n",
      "Wall time: 2.63 ms\n"
     ]
    }
   ],
   "source": [
    "%time attTot = ( 1 - ( 1 - attMC )[:,np.newaxis] * etaMC[np.newaxis,:] ) * attDD[:,np.newaxis]"
   ]
  },
  {
   "cell_type": "code",
   "execution_count": 31,
   "id": "487138e1",
   "metadata": {},
   "outputs": [
    {
     "data": {
      "text/plain": [
       "(2223, 221)"
      ]
     },
     "execution_count": 31,
     "metadata": {},
     "output_type": "execute_result"
    }
   ],
   "source": [
    "attTotMC.shape"
   ]
  },
  {
   "cell_type": "code",
   "execution_count": 32,
   "id": "0ba43e73",
   "metadata": {},
   "outputs": [],
   "source": [
    "# %time attTot = cism.total_attenuation( ll, attDD, attMC, etaMC )"
   ]
  },
  {
   "cell_type": "code",
   "execution_count": 33,
   "id": "5a8cffe3",
   "metadata": {},
   "outputs": [
    {
     "data": {
      "image/png": "[encoded data removed]",
      "text/plain": [
       "<Figure size 432x288 with 1 Axes>"
      ]
     },
     "metadata": {
      "needs_background": "light"
     },
     "output_type": "display_data"
    }
   ],
   "source": [
    "_ = plt.loglog( ll, csp.emission( np.arange( len(ll), dtype = np.uint64 ), attTot ) )"
   ]
  },
  {
   "cell_type": "code",
   "execution_count": 34,
   "id": "5e4aef26",
   "metadata": {},
   "outputs": [
    {
     "name": "stdout",
     "output_type": "stream",
     "text": [
      "CPU times: user 917 µs, sys: 841 µs, total: 1.76 ms\n",
      "Wall time: 968 µs\n"
     ]
    }
   ],
   "source": [
    "%%time\n",
    "subidx = np.arange(0,len(ll),10,dtype=np.uint64)\n",
    "lsub = ll[subidx]\n",
    "sfh.set_params( np.asarray( [ 100, 3.e+8 ], dtype = float ) )\n",
    "csp.set_params( *sfh.time_grid( 1.e+8, tt, zz ) )\n",
    "dd.set_params(np.asarray(list(dd_dict.values())))\n",
    "mc.set_params(np.asarray(list(mc_dict.values())))\n",
    "attDD = dd.attenuation(lsub)\n",
    "attMC = mc.attenuation(lsub)\n",
    "etaMC = mc.eta(tt)\n",
    "attTot = ( 1 - ( 1 - attMC )[:,np.newaxis] * etaMC[np.newaxis,:] ) * attDD[:,np.newaxis]\n",
    "Latt = csp.emission( subidx, attTot )"
   ]
  },
  {
   "cell_type": "code",
   "execution_count": 35,
   "id": "04171b65",
   "metadata": {},
   "outputs": [],
   "source": [
    "Lunatt = csp.emission( subidx )"
   ]
  },
  {
   "cell_type": "code",
   "execution_count": 36,
   "id": "20077b26",
   "metadata": {},
   "outputs": [
    {
     "data": {
      "image/png": "[encoded data removed]",
      "text/plain": [
       "<Figure size 432x288 with 1 Axes>"
      ]
     },
     "metadata": {
      "needs_background": "light"
     },
     "output_type": "display_data"
    }
   ],
   "source": [
    "plt.ylim(1.e+35,1.e+50)\n",
    "plt.loglog(lsub,lsub*Lsun*Lunatt,label='unattenuated')\n",
    "plt.loglog(lsub,lsub*Lsun*Latt,  label='attenuated')\n",
    "_ = plt.legend()"
   ]
  },
  {
   "cell_type": "code",
   "execution_count": 37,
   "id": "4d25a69b",
   "metadata": {},
   "outputs": [],
   "source": [
    "def trap_int ( xx, yy ) :\n",
    "    xx = np.asarray(xx)\n",
    "    yy = np.asarray(yy)\n",
    "    b1b2 = yy[:-1] + yy[1:]\n",
    "    hh = xx[1:] - xx[:-1]\n",
    "    return np.sum( 0.5 * b1b2 * hh )"
   ]
  },
  {
   "cell_type": "code",
   "execution_count": 38,
   "id": "560abb74",
   "metadata": {},
   "outputs": [],
   "source": [
    "def perc ( x1, x2 ) :\n",
    "    return abs( x1 - x2 ) / x2"
   ]
  },
  {
   "cell_type": "markdown",
   "id": "6601775a",
   "metadata": {},
   "source": [
    "Emission from ISM"
   ]
  },
  {
   "cell_type": "code",
   "execution_count": 39,
   "id": "5b8e150c",
   "metadata": {},
   "outputs": [
    {
     "name": "stdout",
     "output_type": "stream",
     "text": [
      "CPU times: user 12.7 ms, sys: 544 µs, total: 13.3 ms\n",
      "Wall time: 12.1 ms\n"
     ]
    }
   ],
   "source": [
    "%%time\n",
    "subidx = np.arange(0,len(ll),1,dtype=np.uint64)\n",
    "lsub = ll[subidx]\n",
    "sfh.set_params( np.asarray( [ 100, 3.e+8 ], dtype = float ) )\n",
    "csp.set_params( *sfh.time_grid( 1.e+8, tt, zz ) )\n",
    "dd.set_params(np.asarray(list(dd_dict.values())))\n",
    "mc.set_params(np.asarray(list(mc_dict.values())))\n",
    "attDD = dd.attenuation(lsub)\n",
    "attMC = mc.attenuation(lsub)\n",
    "etaMC = mc.eta(tt)\n",
    "attTotMC = 1 - ( 1 - attMC )[:,np.newaxis] * etaMC[np.newaxis,:]\n",
    "attTot = attTotMC * attDD[:,np.newaxis]\n",
    "Lunatt = csp.emission( subidx )\n",
    "LattMC = csp.emission( subidx, attTotMC )\n",
    "Latt = csp.emission( subidx, attTot )\n",
    "Tdd = dd.temperature( 0.5 * Lsun * trap_int( lsub, ( LattMC - Latt ) ) )\n",
    "Tmc = mc.temperature( 0.5 * Lsun * trap_int( lsub, ( Lunatt - LattMC ) ) )\n",
    "Ldd = dd.emission(lsub)\n",
    "Lmc = mc.emission(lsub)"
   ]
  },
  {
   "cell_type": "code",
   "execution_count": 40,
   "id": "0b7cfd9e",
   "metadata": {},
   "outputs": [
    {
     "data": {
      "text/plain": [
       "(31.172640851526538, 32.12697836389634)"
      ]
     },
     "execution_count": 40,
     "metadata": {},
     "output_type": "execute_result"
    }
   ],
   "source": [
    "Tdd, Tmc"
   ]
  },
  {
   "cell_type": "code",
   "execution_count": 41,
   "id": "2ef035b7",
   "metadata": {},
   "outputs": [],
   "source": [
    "Lunatt = csp.emission( subidx )"
   ]
  },
  {
   "cell_type": "code",
   "execution_count": 42,
   "id": "d33561cb",
   "metadata": {},
   "outputs": [
    {
     "data": {
      "image/png": "[encoded data removed]",
      "text/plain": [
       "<Figure size 432x288 with 1 Axes>"
      ]
     },
     "metadata": {
      "needs_background": "light"
     },
     "output_type": "display_data"
    }
   ],
   "source": [
    "plt.ylim(1.e+35,1.e+50)\n",
    "plt.loglog(lsub,lsub*Lsun*Lunatt,label='unattenuated')\n",
    "plt.loglog(lsub,lsub*Lsun*LattMC,label='attenuated MC-only')\n",
    "plt.loglog(lsub,lsub*Lsun*Latt,  label='attenuated')\n",
    "plt.loglog(lsub,lsub*Lsun*Ldd,   label='DD-emission')\n",
    "plt.loglog(lsub,lsub*Lsun*Lmc,   label='MC-emission')\n",
    "plt.loglog(lsub,lsub*Lsun*(Latt+Ldd+Lmc), label='tot', color='k', ls='--')\n",
    "_ = plt.legend(ncol=2)"
   ]
  },
  {
   "cell_type": "code",
   "execution_count": 43,
   "id": "429b94c2",
   "metadata": {},
   "outputs": [],
   "source": [
    "idx = np.argwhere( ( 91 < lsub ) & ( lsub < 1.e+7 ) )\n",
    "idx = idx[::100]"
   ]
  },
  {
   "cell_type": "code",
   "execution_count": 44,
   "id": "56184a13",
   "metadata": {},
   "outputs": [
    {
     "name": "stdout",
     "output_type": "stream",
     "text": [
      "CPU times: user 87 µs, sys: 62 µs, total: 149 µs\n",
      "Wall time: 77.2 µs\n",
      "CPU times: user 206 µs, sys: 144 µs, total: 350 µs\n",
      "Wall time: 216 µs\n"
     ]
    },
    {
     "data": {
      "text/plain": [
       "0.2402288967398466"
      ]
     },
     "execution_count": 44,
     "metadata": {},
     "output_type": "execute_result"
    }
   ],
   "source": [
    "%time Eabs1 = trap_int( lsub[idx], ( Lunatt[idx] - Latt[idx] ) )\n",
    "%time Eabs2 = trap_int( lsub, ( Lunatt - Latt ) )\n",
    "perc( Eabs1, Eabs2 )"
   ]
  },
  {
   "cell_type": "code",
   "execution_count": 45,
   "id": "7b48d78c",
   "metadata": {},
   "outputs": [
    {
     "name": "stdout",
     "output_type": "stream",
     "text": [
      "44.33938154582157 31.28719471520037\n",
      "CPU times: user 1.03 ms, sys: 0 ns, total: 1.03 ms\n",
      "Wall time: 1.03 ms\n"
     ]
    }
   ],
   "source": [
    "%%time\n",
    "Tdd1 = dd.temperature( 0.5 * Eabs1 * Lsun )\n",
    "Tmc1 = mc.temperature( 0.5 * Eabs1 * Lsun )\n",
    "print( Tdd1, Tmc1 )"
   ]
  },
  {
   "cell_type": "code",
   "execution_count": 46,
   "id": "e212946f",
   "metadata": {},
   "outputs": [
    {
     "name": "stdout",
     "output_type": "stream",
     "text": [
      "CPU times: user 1.02 ms, sys: 0 ns, total: 1.02 ms\n",
      "Wall time: 1.02 ms\n"
     ]
    }
   ],
   "source": [
    "%%time\n",
    "Tdd2 = dd.temperature( 0.5 * Eabs2 * Lsun )\n",
    "Tmc2 = mc.temperature( 0.5 * Eabs2 * Lsun )\n"
   ]
  },
  {
   "cell_type": "code",
   "execution_count": 47,
   "id": "75c3a5bc",
   "metadata": {},
   "outputs": [
    {
     "name": "stdout",
     "output_type": "stream",
     "text": [
      "0.0539359468274781 0.04998567328303403\n"
     ]
    }
   ],
   "source": [
    "print( perc( Tdd1, Tdd2 ), perc( Tmc1, Tmc2 ) )"
   ]
  },
  {
   "cell_type": "code",
   "execution_count": null,
   "id": "1cd83cb3",
   "metadata": {},
   "outputs": [],
   "source": []
  }
 ],
 "metadata": {
  "kernelspec": {
   "display_name": "Python 3",
   "language": "python",
   "name": "python3"
  },
  "language_info": {
   "codemirror_mode": {
    "name": "ipython",
    "version": 3
   },
   "file_extension": ".py",
   "mimetype": "text/x-python",
   "name": "python",
   "nbconvert_exporter": "python",
   "pygments_lexer": "ipython3",
   "version": "3.8.5"
  }
 },
 "nbformat": 4,
 "nbformat_minor": 5
}
