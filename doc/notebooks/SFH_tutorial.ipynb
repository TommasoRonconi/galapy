{
 "cells": [
  {
   "cell_type": "markdown",
   "id": "388c21c5",
   "metadata": {},
   "source": [
    "# Star Formation History (SFH) tutorial "
   ]
  },
  {
   "cell_type": "code",
   "execution_count": null,
   "id": "16f80465",
   "metadata": {},
   "outputs": [],
   "source": [
    "import numpy as np\n",
    "from galapy.analysis.plot import plt, format_axes_ticks"
   ]
  },
  {
   "cell_type": "markdown",
   "id": "a4cb1f7d",
   "metadata": {},
   "source": [
    "The `galapy.StarFormationHistory` module defines classes and functions for modelling the SFH of a galaxy, at given galactic age, for given SFH-parameters. \n",
    "\n",
    "It can be imported via:"
   ]
  },
  {
   "cell_type": "code",
   "execution_count": null,
   "id": "3917d7ad",
   "metadata": {},
   "outputs": [],
   "source": [
    "import galapy.StarFormationHistory as gpsfh"
   ]
  },
  {
   "cell_type": "markdown",
   "id": "f1b26f09",
   "metadata": {},
   "source": [
    "Or called from the global namespace of the library:\n",
    "\n",
    "```python\n",
    ">>> import galapy as gp\n",
    ">>> gp.StarFormationHistory\n",
    "<module 'galapy.StarFormationHistory' from '/path/to/installed/version/of/galapy/StarFormationHistory.py'>\n",
    "```"
   ]
  },
  {
   "cell_type": "markdown",
   "id": "fec14ae6",
   "metadata": {},
   "source": [
    "We set a time for quenching, just for showing the behaviour of the functions below when this variable is set. By not passing any value to this argument (or setting it to `None`) the default value is selected.\n",
    "\n",
    "**Note** that internally, the default value of $\\tau_\\text{quench}$ is set to $20 \\text{Gyr}$ which is a sufficiently large time to not affect in any case the computations (since the Universe is younger than that ;)"
   ]
  },
  {
   "cell_type": "code",
   "execution_count": null,
   "id": "56fa3d01",
   "metadata": {},
   "outputs": [],
   "source": [
    "tau_quench = 8.e+8"
   ]
  },
  {
   "cell_type": "markdown",
   "id": "0e501ce1",
   "metadata": {},
   "source": [
    "Let's build the sfh-objects from different models:\n",
    "\n",
    "- **In-Situ** (default)\n",
    "\n",
    "    Parameter list:\n",
    "    1. $\\Psi_\\text{max}$ normalization of the SFR (in $[M_\\odot \\text{yr}^{-1}]$)\n",
    "    2. $\\tau_\\ast$ characteristic time (in $[\\text{yr}]$)"
   ]
  },
  {
   "cell_type": "code",
   "execution_count": null,
   "id": "8877a07d",
   "metadata": {},
   "outputs": [],
   "source": [
    "sfh_insitu = gpsfh.SFH( tau_quench, model = 'insitu', psi_max = 100, tau_star = 3.e+8 )"
   ]
  },
  {
   "cell_type": "markdown",
   "id": "602470e0",
   "metadata": {},
   "source": [
    "- **Constant**\n",
    "\n",
    "    Parameter list:\n",
    "    1. $\\Psi_\\text{const}$ constant value of the SFR (in $[M_\\odot \\text{yr}^{-1}]$)"
   ]
  },
  {
   "cell_type": "code",
   "execution_count": null,
   "id": "85572212",
   "metadata": {},
   "outputs": [],
   "source": [
    "sfh_const = gpsfh.SFH( tau_quench, model = 'constant', psi = 1. )"
   ]
  },
  {
   "cell_type": "markdown",
   "id": "e993795e",
   "metadata": {},
   "source": [
    "- **Delayed Exponential**\n",
    "\n",
    "    Parameter list:\n",
    "    1. $\\Psi_\\text{norm}$ normalization of the SFR (in $[M_\\odot \\text{yr}^{-1}]$)\n",
    "    2. $\\kappa$ shape parameter (adimensional)\n",
    "    3. $\\tau_\\ast$ characteristic time (in $[\\text{yr}]$)"
   ]
  },
  {
   "cell_type": "code",
   "execution_count": null,
   "id": "3ed078c5",
   "metadata": {},
   "outputs": [],
   "source": [
    "sfh_dexp = gpsfh.SFH( tau_quench, model = 'delayedexp', psi_norm = 1, k_shape = 0.2, tau_star = 1.e+8 )"
   ]
  },
  {
   "cell_type": "markdown",
   "id": "6355ef3e",
   "metadata": {},
   "source": [
    "- **Log-Normal**\n",
    "\n",
    "    Parameter list:\n",
    "    1. $\\Psi_\\text{norm}$ normalization of the SFR (in $[M_\\odot \\text{yr}^{-1}]$)\n",
    "    2. $\\sigma_\\ast$ time span of evolution (adimensional)\n",
    "    3. $\\tau_\\ast$ characteristic time (in $[\\text{yr}]$)"
   ]
  },
  {
   "cell_type": "code",
   "execution_count": null,
   "id": "2e018014",
   "metadata": {},
   "outputs": [],
   "source": [
    "sfh_lnorm = gpsfh.SFH( tau_quench, model = 'lognormal', psi_norm = 100, sigma_star = 2., tau_star = 3.e+8 )"
   ]
  },
  {
   "cell_type": "markdown",
   "id": "04555fa2",
   "metadata": {},
   "source": [
    "Each of these objects can model the star formation history at some given galactic age, i.e. the Star Formation Rate (SFR) at given time.\n",
    "\n",
    "This is achieved by passing to the object itself\n",
    "\n",
    "- a scalar age:\n",
    "```python\n",
    "time = 1.e+8      # time is always expressed in [yr]\n",
    "sfh_model( time ) # will return a scalar\n",
    "```\n",
    "- an array of ages:\n",
    "```python\n",
    "time = np.logspace( 6, 9, 100 ) # an array of 100 time values from 10^6 to 10^9 years\n",
    "sfh_model( time )          # will return an array\n",
    "```\n",
    "\n",
    "The latter is the preferred way when using arrays as input (i.e. don't use the first + list comprehension as it is less computationally efficient).\n",
    "\n",
    "We therefore define an array of times and compute the sfh ($\\psi$) at each of these times for the different models:"
   ]
  },
  {
   "cell_type": "code",
   "execution_count": null,
   "id": "cb195d86",
   "metadata": {},
   "outputs": [],
   "source": [
    "tau = np.logspace( 6, 10, 200 )\n",
    "psi_insitu = sfh_insitu( tau )\n",
    "psi_const  = sfh_const( tau )\n",
    "psi_dexp   = sfh_dexp( tau )\n",
    "psi_lnorm  = sfh_lnorm( tau )"
   ]
  },
  {
   "cell_type": "code",
   "execution_count": null,
   "id": "c66d4949",
   "metadata": {},
   "outputs": [],
   "source": [
    "fig = plt.figure( figsize = ( 6,4 ) )\n",
    "plt.ylim( [ -2.3, 3. ] )\n",
    "plt.xlabel( '$\\\\log\\\\tau$ $[\\\\log( \\\\mathrm{yr} )]$', fontsize = 14 )\n",
    "plt.ylabel( '$\\\\log\\\\psi(\\\\tau)$ $[\\\\log (M_\\\\odot \\\\mathrm{yr}^{-1})]$', fontsize = 14 )\n",
    "# summing an arbitrary small number (1.e-7) to avoid log10(0.) values:\n",
    "plt.plot( np.log10( tau ), np.log10( psi_insitu + 1.e-7 ), label = '$\\\\psi_\\\\mathrm{in situ}$' )\n",
    "plt.plot( np.log10( tau ), np.log10( psi_const + 1.e-7 ),  label = '$\\\\psi_\\\\mathrm{const}$' )\n",
    "plt.plot( np.log10( tau ), np.log10( psi_dexp + 1.e-7 ),   label = '$\\\\psi_\\\\mathrm{exp}$' )\n",
    "plt.plot( np.log10( tau ), np.log10( psi_lnorm + 1.e-7 ),  label = '$\\\\psi_{\\\\log\\\\mathcal{N}}$' )\n",
    "plt.legend( fontsize = 14, ncol = 2 )\n",
    "format_axes_ticks(fig)"
   ]
  },
  {
   "cell_type": "markdown",
   "id": "1f2ddf6d",
   "metadata": {},
   "source": [
    "As a result of star formation, the total mass of stars hosted in a given galaxy varies while the galaxy ages. We can compute this evolving quantity with the dedicated function `Mstar()`"
   ]
  },
  {
   "cell_type": "code",
   "execution_count": null,
   "id": "2098c544",
   "metadata": {},
   "outputs": [],
   "source": [
    "Mstar_insitu = sfh_insitu.Mstar( tau )\n",
    "Mstar_const  = sfh_const.Mstar( tau )\n",
    "Mstar_dexp   = sfh_dexp.Mstar( tau )\n",
    "Mstar_lnorm  = sfh_lnorm.Mstar( tau )"
   ]
  },
  {
   "cell_type": "code",
   "execution_count": null,
   "id": "cbd41d17",
   "metadata": {},
   "outputs": [],
   "source": [
    "import matplotlib.pyplot as plt\n",
    "fig = plt.figure( figsize = ( 6,4 ) )\n",
    "plt.xlabel( '$\\\\log\\\\tau$ $[\\\\log( \\\\mathrm{yr} )]$', fontsize = 14 )\n",
    "plt.ylabel( '$\\\\log\\\\psi(\\\\tau)$ $[\\\\log (M_\\\\odot \\\\mathrm{yr}^{-1})]$', fontsize = 14 )\n",
    "plt.plot( np.log10( tau ), np.log10( Mstar_insitu + 1.e-7 ), label = '$M_\\\\mathrm{in situ}^\\\\ast$' )\n",
    "plt.plot( np.log10( tau ), np.log10( Mstar_const + 1.e-7 ),  label = '$M_\\\\mathrm{const}^\\\\ast$' )\n",
    "plt.plot( np.log10( tau ), np.log10( Mstar_dexp + 1.e-7 ),   label = '$M_\\\\mathrm{exp}^\\\\ast$' )\n",
    "plt.plot( np.log10( tau ), np.log10( Mstar_lnorm + 1.e-7 ),  label = '$M_{\\\\log\\\\mathcal{N}}^\\\\ast$' )\n",
    "plt.axvline( np.log10( tau_quench ), color = 'gray', ls = '--', label = 'quenching')\n",
    "plt.legend( fontsize = 14, ncol = 2 )\n",
    "format_axes_ticks(fig)"
   ]
  },
  {
   "cell_type": "markdown",
   "id": "8bdb97f5",
   "metadata": {},
   "source": [
    "As shown in the plot above, after quenching, the total stellar mass stops growing (as matter is no longer converted from medium into stars). \n",
    "\n",
    "**Note that** the numerical noise present in the latest stages of the in-situ, constant and log-normal evolution is supposedly due to the numerical noise introduced by the integration scheme used in the implementation of this function. "
   ]
  },
  {
   "cell_type": "markdown",
   "id": "bef23919",
   "metadata": {},
   "source": [
    "## Further empirical parameterization\n",
    "\n",
    "For the empirical SFH models (i.e. **constant**, **delayed-exponential** and **log-normal**) two further parameters can be tuned:\n",
    "\n",
    "* $M_\\text{dust}$: total dust content of the galaxy (default $=10^8\\ M_\\odot$);\n",
    "* $Z$: average metallicity of the components (default $= 1 \\%$);\n",
    "\n",
    "The user can modify these additional parameters by calling the usual function `set_parameters`:\n",
    "\n",
    "```python\n",
    "md = 1.e+7\n",
    "zz = 0.02\n",
    "sfh_empirical.set_parameters( Mdust = md, Zgs = zz )\n",
    "```\n",
    "where `md` and `z` are the chosen values for these parameters (in the above example $10^7\\;M_\\odot$ and $2\\%$ respectively).\n",
    "\n",
    "Note that two assumptions are made:\n",
    "\n",
    "* the galaxy gas content is authomatically computed as\n",
    "    $$M_\\text{gas} = M_\\text{dust} / D$$\n",
    "    where\n",
    "    $$D \\approx 0.01\\; (Z_\\text{gas}/Z_\\odot)^{-0.85}$$\n",
    "* the metallicity of the stellar and gas components is the same: $Z_\\text{gas} \\equiv Z_\\ast$"
   ]
  },
  {
   "cell_type": "markdown",
   "id": "81d024a7",
   "metadata": {},
   "source": [
    "## Derived quantities:"
   ]
  },
  {
   "cell_type": "markdown",
   "id": "867516f0",
   "metadata": {},
   "source": [
    "As mentioned above, **in the In-Situ model only** we can compute the derived ISM quantities at varying time (age):\n",
    "\n",
    "* Dust mass\n",
    "* Gass mass and metallicity\n",
    "* Stellar metallicity"
   ]
  },
  {
   "cell_type": "code",
   "execution_count": null,
   "id": "299e17d8",
   "metadata": {},
   "outputs": [],
   "source": [
    "fig = plt.figure( figsize = ( 6,4 ) )\n",
    "plt.ylim( [ 6., 11. ] )\n",
    "\n",
    "plt.xlabel( '$\\\\log\\\\tau$ $[\\\\log( \\\\mathrm{yr} )]$', fontsize = 14 )\n",
    "plt.ylabel( '$\\\\log ( M / M_\\\\odot)$', fontsize = 14 )\n",
    "plt.plot( np.log10( tau ), np.log10( sfh_insitu.Mgas( tau ) + 1.e-7 ), label = '$M_\\\\mathrm{gas}$' )\n",
    "plt.plot( np.log10( tau ), np.log10( sfh_insitu.Mdust( tau ) + 1.e-7 ), label = '$M_\\\\mathrm{dust}$' )\n",
    "plt.legend( fontsize = 14 )\n",
    "format_axes_ticks(fig)"
   ]
  },
  {
   "cell_type": "code",
   "execution_count": null,
   "id": "2aaacb3b",
   "metadata": {},
   "outputs": [],
   "source": [
    "fig = plt.figure( figsize = ( 6,4 ) )\n",
    "plt.xlabel( '$\\\\log\\\\tau$ $[\\\\log( \\\\mathrm{yr} )]$', fontsize = 14 )\n",
    "plt.ylabel( '$\\\\log ( Z / Z_\\\\odot)$', fontsize = 14 )\n",
    "plt.plot( np.log10( tau ), np.log10( sfh_insitu.Zgas( tau ) ), label = '$Z_\\\\mathrm{gas}$' )\n",
    "plt.plot( np.log10( tau ), np.log10( sfh_insitu.Zstar( tau ) ), label = '$Z_\\\\ast$' )\n",
    "plt.legend( fontsize = 14 )\n",
    "format_axes_ticks(fig)"
   ]
  }
 ],
 "metadata": {
  "kernelspec": {
   "display_name": "Python 3 (ipykernel)",
   "language": "python",
   "name": "python3"
  },
  "language_info": {
   "codemirror_mode": {
    "name": "ipython",
    "version": 3
   },
   "file_extension": ".py",
   "mimetype": "text/x-python",
   "name": "python",
   "nbconvert_exporter": "python",
   "pygments_lexer": "ipython3",
   "version": "3.10.12"
  }
 },
 "nbformat": 4,
 "nbformat_minor": 5
}
